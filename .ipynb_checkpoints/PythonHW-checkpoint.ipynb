{
 "cells": [
  {
   "cell_type": "markdown",
   "metadata": {},
   "source": [
    "### Homework Notebook"
   ]
  },
  {
   "cell_type": "markdown",
   "metadata": {},
   "source": [
    "Q1 Create a list of 5 float numbers and print it."
   ]
  },
  {
   "cell_type": "code",
   "execution_count": 1,
   "metadata": {},
   "outputs": [
    {
     "name": "stdout",
     "output_type": "stream",
     "text": [
      "[9342.4, 234.6, 34.4, 23457.0, 43243.5]\n"
     ]
    }
   ],
   "source": [
    "numbers = [9342.4,234.6,34.4,23457.0,43243.5]\n",
    "print(numbers)"
   ]
  },
  {
   "cell_type": "markdown",
   "metadata": {},
   "source": [
    "Q2 Create a immutable to do list with 3 items."
   ]
  },
  {
   "cell_type": "code",
   "execution_count": 2,
   "metadata": {},
   "outputs": [
    {
     "name": "stdout",
     "output_type": "stream",
     "text": [
      "('sanil', 'swapnil', 'ishu')\n"
     ]
    }
   ],
   "source": [
    "numbers = ('sanil','swapnil','ishu')\n",
    "print(numbers)"
   ]
  },
  {
   "cell_type": "code",
   "execution_count": 3,
   "metadata": {},
   "outputs": [
    {
     "data": {
      "text/plain": [
       "tuple"
      ]
     },
     "execution_count": 3,
     "metadata": {},
     "output_type": "execute_result"
    }
   ],
   "source": [
    "type(numbers)"
   ]
  },
  {
   "cell_type": "markdown",
   "metadata": {},
   "source": [
    "Q3 We have to store many colors but we do not want them to be repeated, also the order of colors do not matter, make a data type named color to store it. Colors are Red,Green, Blue, Baige,Blue,Red."
   ]
  },
  {
   "cell_type": "code",
   "execution_count": 4,
   "metadata": {},
   "outputs": [],
   "source": [
    "color = {'red','green','blue','baige','blue','red'}"
   ]
  },
  {
   "cell_type": "code",
   "execution_count": 5,
   "metadata": {},
   "outputs": [
    {
     "name": "stdout",
     "output_type": "stream",
     "text": [
      "{'green', 'baige', 'blue', 'red'}\n"
     ]
    }
   ],
   "source": [
    "print(color)"
   ]
  },
  {
   "cell_type": "markdown",
   "metadata": {},
   "source": [
    "Q4 Add a new element in your number list and print 3rd element of your list."
   ]
  },
  {
   "cell_type": "code",
   "execution_count": 27,
   "metadata": {},
   "outputs": [
    {
     "name": "stdout",
     "output_type": "stream",
     "text": [
      "243\n"
     ]
    }
   ],
   "source": [
    "number = [32,324,243,43,312]\n",
    "number.append(535)\n",
    "print(number[2])"
   ]
  },
  {
   "cell_type": "markdown",
   "metadata": {},
   "source": [
    "Q5 Add a new color of your choice and print the set color."
   ]
  },
  {
   "cell_type": "code",
   "execution_count": 44,
   "metadata": {},
   "outputs": [
    {
     "name": "stdout",
     "output_type": "stream",
     "text": [
      "{'red', 'violet', 'blue', 'green', 'baige'}\n"
     ]
    }
   ],
   "source": [
    "color.add('violet')\n",
    "print(color)"
   ]
  },
  {
   "cell_type": "code",
   "execution_count": 45,
   "metadata": {},
   "outputs": [],
   "source": [
    "casdh = (24,234,234,3423)\n"
   ]
  },
  {
   "cell_type": "code",
   "execution_count": 47,
   "metadata": {},
   "outputs": [
    {
     "ename": "AttributeError",
     "evalue": "'tuple' object has no attribute 'add'",
     "output_type": "error",
     "traceback": [
      "\u001b[0;31m---------------------------------------------------------------------------\u001b[0m",
      "\u001b[0;31mAttributeError\u001b[0m                            Traceback (most recent call last)",
      "\u001b[0;32m<ipython-input-47-cfff513f48a1>\u001b[0m in \u001b[0;36m<module>\u001b[0;34m\u001b[0m\n\u001b[0;32m----> 1\u001b[0;31m \u001b[0mcasdh\u001b[0m\u001b[0;34m.\u001b[0m\u001b[0madd\u001b[0m\u001b[0;34m(\u001b[0m\u001b[0;36m324\u001b[0m\u001b[0;34m)\u001b[0m\u001b[0;34m\u001b[0m\u001b[0;34m\u001b[0m\u001b[0m\n\u001b[0m",
      "\u001b[0;31mAttributeError\u001b[0m: 'tuple' object has no attribute 'add'"
     ]
    }
   ],
   "source": [
    "casdh.add(324)"
   ]
  },
  {
   "cell_type": "markdown",
   "metadata": {},
   "source": [
    "Q6 \n",
    "* Take a num input integer.\n",
    "* if it is > 2 then print its greater than 2.\n",
    "    else print its less than equal to 2."
   ]
  },
  {
   "cell_type": "code",
   "execution_count": 7,
   "metadata": {},
   "outputs": [
    {
     "name": "stdout",
     "output_type": "stream",
     "text": [
      "enter5\n",
      "its greater than 2\n"
     ]
    }
   ],
   "source": [
    "num = int(input('enter'))\n",
    "if(num > 2):\n",
    "     print('its greater than 2')\n",
    "else:\n",
    "     print('its less than equal to 2')"
   ]
  },
  {
   "cell_type": "markdown",
   "metadata": {},
   "source": []
  },
  {
   "cell_type": "markdown",
   "metadata": {},
   "source": [
    "q7 you have to take a integer input\n",
    "   add 5 to it \n",
    "    if it is greater than 5 times 2 then print access accepted\n",
    "    else if it is greater than 4 times 2 print access accepted too\n",
    "    else print access denied"
   ]
  },
  {
   "cell_type": "code",
   "execution_count": 11,
   "metadata": {},
   "outputs": [
    {
     "name": "stdout",
     "output_type": "stream",
     "text": [
      "enter no.3\n",
      "1 3\n",
      "5 8\n",
      "accesss denied\n"
     ]
    }
   ],
   "source": [
    "integer = int(input('enter no.'))\n",
    "print(1,integer)\n",
    "integer = integer+5\n",
    "if(integer > 5*2):\n",
    "    print(3,integer)\n",
    "    print('access accepted')\n",
    "elif(integer > 4*2):\n",
    "    print(4,integer)\n",
    "    print('access accepted 2')\n",
    "else:\n",
    "    print(5,integer)\n",
    "    print('accesss denied')"
   ]
  },
  {
   "cell_type": "markdown",
   "metadata": {},
   "source": [
    "### Day 1 Questions"
   ]
  },
  {
   "cell_type": "code",
   "execution_count": 1,
   "metadata": {},
   "outputs": [],
   "source": [
    "# Q1 Take two int values from user and print greatest among them.\n",
    "\n",
    "# Q2 A school has following rules for grading system:\n",
    "# a. Below 25 - F\n",
    "# b. 25 to 45 - E\n",
    "# c. 45 to 50 - D\n",
    "# d. 50 to 60 - C\n",
    "# e. 60 to 80 - B\n",
    "# f. Above 80 - A\n",
    "# Ask user to enter marks and print the corresponding grade.\n",
    "\n",
    "# Q3 Take input of age of 3 people by user and determine oldest and youngest among them."
   ]
  },
  {
   "cell_type": "code",
   "execution_count": 7,
   "metadata": {},
   "outputs": [
    {
     "name": "stdout",
     "output_type": "stream",
     "text": [
      "4\n",
      "5\n",
      "5\n"
     ]
    }
   ],
   "source": [
    "# 1\n",
    "first = int(input())\n",
    "second = int(input())\n",
    "if(first > second):\n",
    "    print(first)\n",
    "if(second > first):\n",
    "    print(second)\n",
    "\n",
    "\n",
    "    \n",
    "#if(first > second):\n",
    "#    print(first)\n",
    "#else:\n",
    "#    print(second)"
   ]
  },
  {
   "cell_type": "code",
   "execution_count": 8,
   "metadata": {},
   "outputs": [
    {
     "name": "stdout",
     "output_type": "stream",
     "text": [
      "67\n",
      "B\n"
     ]
    }
   ],
   "source": [
    "# 2\n",
    "marks = int(input())\n",
    "if(marks <= 25):\n",
    "    print('F')\n",
    "elif(marks > 25) and (marks <= 45):\n",
    "    print('E')\n",
    "elif(marks > 45) and (marks <= 50):\n",
    "    print('D')    \n",
    "elif(marks > 50) and (marks <=60):\n",
    "    print('C')\n",
    "elif(marks > 60) and (marks <= 80):\n",
    "    print('B')\n",
    "elif(marks >80) and (marks <= 100):\n",
    "    print('A')\n",
    "else:\n",
    "    print('Galat Marks Hai Noobde')\n"
   ]
  },
  {
   "cell_type": "code",
   "execution_count": 9,
   "metadata": {},
   "outputs": [
    {
     "name": "stdout",
     "output_type": "stream",
     "text": [
      "34\n",
      "12\n",
      "25\n",
      "34 is greatest\n",
      "12 is smallest\n",
      "34 is greatest 12 is smallest\n"
     ]
    }
   ],
   "source": [
    "# 3\n",
    "first = int(input())\n",
    "second = int(input())\n",
    "third = int(input())\n",
    "if((first > second ) and (first > third)):\n",
    "    print(first,'is greatest')\n",
    "elif((second > first) and (second > third)):\n",
    "    print(second,'is greatest')\n",
    "else:\n",
    "    print(third,'is greatest')\n",
    "if((first < second ) and (first < third)):\n",
    "    print(first,'is smallest')\n",
    "elif((second < first) and (second < third)):\n",
    "    print(second,'is smallest')\n",
    "else:\n",
    "    print(third,'is smallest')\n",
    "\n",
    "\n",
    "\n",
    "num1 = max(first,second,third)\n",
    "num2 = min(first,second,third)\n",
    "print(num1,\"is greatest\",num2,\"is smallest\")\n"
   ]
  },
  {
   "cell_type": "markdown",
   "metadata": {},
   "source": [
    "### Day 2 Questions"
   ]
  },
  {
   "cell_type": "code",
   "execution_count": null,
   "metadata": {},
   "outputs": [],
   "source": [
    "#Q1. If the number is positive, we print an appropriate message\n",
    "#Q2. Write a program to check whether a person is eligible for voting or not. (accept age from user)\n",
    "#Q3. Write a program to check whether a number entered by user is even or odd.\n",
    "#Q4. GIVEN A LIST [5,6,7] YOU HAVE TO TAKE 3 INPUT NO. FROM THE USER, IF THE USER GUESS THE NUMBERS\n",
    "#    CORRECTLY PRINT \"YES\" EACH TIME ELSE PRINT \"NO YOU LOST\"."
   ]
  },
  {
   "cell_type": "code",
   "execution_count": 2,
   "metadata": {},
   "outputs": [
    {
     "name": "stdout",
     "output_type": "stream",
     "text": [
      "5\n",
      "This number is Positive\n"
     ]
    }
   ],
   "source": [
    "# 1\n",
    "number = int(input())\n",
    "if(number > 0):\n",
    "    print('This number is Positive')\n",
    "elif(number < 0):\n",
    "    print('This number is Negative')\n",
    "else:\n",
    "    print('This number is Neither Negative nor Positive')"
   ]
  },
  {
   "cell_type": "code",
   "execution_count": 3,
   "metadata": {},
   "outputs": [
    {
     "name": "stdout",
     "output_type": "stream",
     "text": [
      "23\n",
      "You are Eligible\n"
     ]
    }
   ],
   "source": [
    "# 2\n",
    "age = int(input())\n",
    "if(age >= 18):\n",
    "    print('You are Eligible')\n",
    "else:\n",
    "    print('You are not Eligible')"
   ]
  },
  {
   "cell_type": "code",
   "execution_count": 5,
   "metadata": {},
   "outputs": [
    {
     "name": "stdout",
     "output_type": "stream",
     "text": [
      "4\n",
      "This is Even Number\n"
     ]
    }
   ],
   "source": [
    "# 3\n",
    "num = int(input())\n",
    "if(num % 2 == 0):\n",
    "    print('This is Even Number')\n",
    "else:\n",
    "    print('This is Odd Number')"
   ]
  },
  {
   "cell_type": "code",
   "execution_count": 6,
   "metadata": {},
   "outputs": [
    {
     "name": "stdout",
     "output_type": "stream",
     "text": [
      "5\n",
      "YES\n",
      "2\n",
      "NO YOU LOST\n"
     ]
    }
   ],
   "source": [
    "# 4\n",
    "number = [5,6,7]\n",
    "first = int(input())\n",
    "if(first == number[0] ):\n",
    "   print('YES')\n",
    "   second = int(input())\n",
    "   if(second == number[1]):\n",
    "      print('YES')\n",
    "      third = int(input())\n",
    "      if(third == number[2]):\n",
    "          print('YES')\n",
    "      else:\n",
    "          print('NO YOU LOST')\n",
    "   else:\n",
    "       print('NO YOU LOST')\n",
    "else:\n",
    "    print('NO YOU LOST') "
   ]
  },
  {
   "cell_type": "markdown",
   "metadata": {},
   "source": [
    "### Day 3 Questions"
   ]
  },
  {
   "cell_type": "code",
   "execution_count": null,
   "metadata": {},
   "outputs": [],
   "source": []
  }
 ],
 "metadata": {
  "kernelspec": {
   "display_name": "Python 3",
   "language": "python",
   "name": "python3"
  },
  "language_info": {
   "codemirror_mode": {
    "name": "ipython",
    "version": 3
   },
   "file_extension": ".py",
   "mimetype": "text/x-python",
   "name": "python",
   "nbconvert_exporter": "python",
   "pygments_lexer": "ipython3",
   "version": "3.8.3"
  }
 },
 "nbformat": 4,
 "nbformat_minor": 4
}
